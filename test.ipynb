{
 "cells": [
  {
   "cell_type": "code",
   "execution_count": 2,
   "id": "6fdb6b56",
   "metadata": {},
   "outputs": [
    {
     "name": "stderr",
     "output_type": "stream",
     "text": [
      "/home/ben/Thesis/AV-Deepfake1M++/venv/lib/python3.10/site-packages/tqdm/auto.py:21: TqdmWarning: IProgress not found. Please update jupyter and ipywidgets. See https://ipywidgets.readthedocs.io/en/stable/user_install.html\n",
      "  from .autonotebook import tqdm as notebook_tqdm\n"
     ]
    }
   ],
   "source": [
    "from avdeepfake1m.loader import AVDeepfake1mDataModule"
   ]
  },
  {
   "cell_type": "code",
   "execution_count": null,
   "id": "bc816faa",
   "metadata": {},
   "outputs": [],
   "source": [
    "dm = AVDeepfake1mDataModule(\"/data\")\n",
    "print(dm)"
   ]
  }
 ],
 "metadata": {
  "kernelspec": {
   "display_name": "venv",
   "language": "python",
   "name": "python3"
  },
  "language_info": {
   "codemirror_mode": {
    "name": "ipython",
    "version": 3
   },
   "file_extension": ".py",
   "mimetype": "text/x-python",
   "name": "python",
   "nbconvert_exporter": "python",
   "pygments_lexer": "ipython3",
   "version": "3.10.12"
  }
 },
 "nbformat": 4,
 "nbformat_minor": 5
}
